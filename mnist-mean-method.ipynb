{
 "cells": [
  {
   "cell_type": "code",
   "execution_count": 1,
   "metadata": {
    "collapsed": true
   },
   "outputs": [],
   "source": [
    "#Load the data from train file\n",
    "import pandas as pd\n",
    "data=pd.read_csv('train.csv', sep=',').as_matrix()"
   ]
  },
  {
   "cell_type": "code",
   "execution_count": 2,
   "metadata": {
    "collapsed": false
   },
   "outputs": [],
   "source": [
    "import numpy as np\n",
    "#split the data into training and testing data\n",
    "data.shape\n",
    "N = data.shape[0]\n",
    "n_train = int((N*70)/100)\n",
    "X_train = data[:n_train,1:]\n",
    "Y_train = data[:n_train,0]\n",
    "\n",
    "X_test = data[n_train:,1:]\n",
    "Y_test = data[n_train:,0]"
   ]
  },
  {
   "cell_type": "code",
   "execution_count": 5,
   "metadata": {
    "collapsed": false
   },
   "outputs": [
    {
     "data": {
      "text/plain": [
       "(61.962585034013607, 62.206349206349209)"
      ]
     },
     "execution_count": 5,
     "metadata": {},
     "output_type": "execute_result"
    }
   ],
   "source": [
    "#All we are doing is for every class, \n",
    "#we compute the weights as average pixel value of all features.\n",
    "\n",
    "C = 10\n",
    "d = X_train.shape[1]\n",
    "\n",
    "Y_train_matrix = np.zeros((n_train, C))\n",
    "Y_train_matrix[np.arange(n_train), Y_train] = 1\n",
    "\n",
    "theta = Y_train_matrix.T.dot(X_train)/np.sum(Y_train_matrix.T, axis=1).reshape(-1,1)\n",
    "\n",
    "def predict(theta, X):\n",
    "    return np.argmax(X.dot(theta.T), axis=1)\n",
    "\n",
    "accuracy_train = np.mean(predict(theta, X_train)==Y_train)*100\n",
    "accuracy_test = np.mean(predict(theta, X_test)==Y_test)*100\n",
    "accuracy_train, accuracy_test"
   ]
  },
  {
   "cell_type": "code",
   "execution_count": 4,
   "metadata": {
    "collapsed": false
   },
   "outputs": [],
   "source": [
    "X_Kaggle=pd.read_csv('test.csv', sep=',').as_matrix()\n",
    "Y_Kaggle = predict(theta, X_Kaggle)\n",
    "dataframe = pd.DataFrame({\"ImageId\":np.arange(28000)+1,\"Label\":Y_Kaggle})\n",
    "dataframe.to_csv('submit_mean_method.csv', index=False)\n"
   ]
  },
  {
   "cell_type": "code",
   "execution_count": 26,
   "metadata": {
    "collapsed": false
   },
   "outputs": [
    {
     "data": {
      "image/png": "[encoded data removed]",
      "text/plain": [
       "<matplotlib.figure.Figure at 0x112a4e550>"
      ]
     },
     "metadata": {},
     "output_type": "display_data"
    }
   ],
   "source": [
    "%matplotlib inline\n",
    "#plot the image just so that you can see how they are\n",
    "\n",
    "import matplotlib.pyplot as plt\n",
    "import matplotlib.image as mpimg\n",
    "import numpy as np\n",
    "\n",
    "n1 = 8\n",
    "n2 = 7\n",
    "imgplot = plt.imshow((theta[n1]-theta[n2]).reshape(28,28))\n"
   ]
  },
  {
   "cell_type": "code",
   "execution_count": null,
   "metadata": {
    "collapsed": true
   },
   "outputs": [],
   "source": []
  }
 ],
 "metadata": {
  "kernelspec": {
   "display_name": "Python 3",
   "language": "python",
   "name": "python3"
  },
  "language_info": {
   "codemirror_mode": {
    "name": "ipython",
    "version": 3
   },
   "file_extension": ".py",
   "mimetype": "text/x-python",
   "name": "python",
   "nbconvert_exporter": "python",
   "pygments_lexer": "ipython3",
   "version": "3.5.2"
  },
  "widgets": {
   "state": {},
   "version": "1.1.2"
  }
 },
 "nbformat": 4,
 "nbformat_minor": 2
}
