{
 "cells": [
  {
   "cell_type": "code",
   "execution_count": 2,
   "metadata": {
    "collapsed": true
   },
   "outputs": [],
   "source": [
    "#Load the data from train file\n",
    "import pandas as pd\n",
    "import numpy as np\n",
    "import matplotlib.pyplot as plt\n",
    "import matplotlib.image as mpimg\n",
    "\n",
    "def load_mnist_data():\n",
    "    \n",
    "    data=pd.read_csv('train.csv', sep=',').as_matrix()\n",
    "    data.shape\n",
    "    N = data.shape[0]\n",
    "    n_train = int((N*70)/100)\n",
    "    X_train = data[:n_train,1:]\n",
    "    Y_train = data[:n_train,0]\n",
    "\n",
    "    X_test = data[n_train:,1:]\n",
    "    Y_test = data[n_train:,0]\n",
    "\n",
    "    C = 10\n",
    "    d = X_train.shape[1]\n",
    "    return data, N, n_train, X_train, Y_train, X_test, Y_test, C, d"
   ]
  },
  {
   "cell_type": "code",
   "execution_count": 3,
   "metadata": {
    "collapsed": true
   },
   "outputs": [],
   "source": [
    "data, N, n_train, X_train, Y_train, X_test, Y_test, C, d = load_mnist_data()"
   ]
  },
  {
   "cell_type": "code",
   "execution_count": 4,
   "metadata": {
    "collapsed": true
   },
   "outputs": [],
   "source": [
    "%matplotlib inline"
   ]
  },
  {
   "cell_type": "code",
   "execution_count": 5,
   "metadata": {
    "collapsed": false
   },
   "outputs": [],
   "source": [
    "import random\n",
    "# First implement a gradient checker by filling in the following functions\n",
    "def gradcheck_naive(f, x):\n",
    "    \"\"\" \n",
    "    Gradient check for a function f \n",
    "    - f should be a function that takes a single argument and outputs the cost and its gradients\n",
    "    - x is the point (numpy array) to check the gradient at\n",
    "    \"\"\" \n",
    "\n",
    "    rndstate = random.getstate()\n",
    "    random.setstate(rndstate)  \n",
    "    fx, grad = f(x) # Evaluate function value at original point\n",
    "    h = 1e-10\n",
    "\n",
    "    # Iterate over all indexes in x\n",
    "    it = np.nditer(x, flags=['multi_index'], op_flags=['readwrite'])\n",
    "    while not it.finished:\n",
    "        ix = it.multi_index\n",
    "        \n",
    "        ### YOUR CODE HERE: try modifying x[ix] with h defined above to compute numerical gradients\n",
    "        ### make sure you call random.setstate(rndstate) before calling f(x) each time, this will make it \n",
    "        ### possible to test cost functions with built in randomness later\n",
    "        \n",
    "        x[ix] = x[ix]+h\n",
    "        \n",
    "        random.setstate(rndstate)\n",
    "        fx1,grad1 = f(x)\n",
    "        numgrad = (fx1-fx)/h\n",
    "        \n",
    "        x[ix] = x[ix]-h\n",
    "        \n",
    "        ### END YOUR CODE\n",
    "\n",
    "        # Compare gradients\n",
    "        reldiff = abs(numgrad - grad[ix]) / max(1, abs(numgrad), abs(grad[ix]))\n",
    "        if reldiff > 1e-5:\n",
    "            print( \"Gradient check failed.\")\n",
    "            print( \"First gradient error found at index %s\" % str(ix))\n",
    "            print( \"Your gradient: %f \\t Numerical gradient: %f\" % (grad[ix], numgrad))\n",
    "            return\n",
    "        \n",
    "        it.iternext() # Step to next dimension\n",
    "\n",
    "    print( \"Gradient check passed!\")"
   ]
  },
  {
   "cell_type": "code",
   "execution_count": 9,
   "metadata": {
    "collapsed": false
   },
   "outputs": [
    {
     "data": {
      "text/plain": [
       "array([0, 1, 4, 0])"
      ]
     },
     "execution_count": 9,
     "metadata": {},
     "output_type": "execute_result"
    }
   ],
   "source": [
    "def network_forward_backward_pass(X, y, W1, b1, W2, b2, reg = 1e-3):\n",
    "    N = X.shape[0]\n",
    "    H = np.dot(X, W1) + b1\n",
    "    H_relu = np.maximum(H, 0)\n",
    "    scores = np.dot(H_relu, W2) + b2\n",
    "    \n",
    "    if y is None:\n",
    "        return scores\n",
    "    \n",
    "    weights = scores - np.max(scores, axis=1, keepdims=True)\n",
    "    exp = np.exp(weights)\n",
    "    prob_matrix = exp/np.sum(exp, axis=1, keepdims=True)\n",
    "    loss = -np.sum(np.log(prob_matrix[np.arange(N), y.reshape(1,-1)]))\n",
    "    loss /= N\n",
    "    loss += 0.5 * reg * (np.sum(W1*W1) + np.sum(W2*W2))\n",
    "    \n",
    "    #print(prob_matrix[np.arange(N), y.reshape(1,-1)].shape)\n",
    "    prob_matrix[np.arange(N), y.reshape(1,-1)] -= 1\n",
    "    dW2 = H_relu.T.dot(prob_matrix)\n",
    "    db2 = np.sum(prob_matrix, axis=0)\n",
    "    dX = prob_matrix.dot(W2.T)\n",
    "    dH = dX*(H>0)\n",
    "    dW1 = X.T.dot(dH)\n",
    "    db1 = np.sum(dH, axis=0)\n",
    "    \n",
    "    dW2 /= N\n",
    "    db2 /= N\n",
    "    dW1 /= N\n",
    "    db1 /= N\n",
    "    \n",
    "    dW2 += reg * W2\n",
    "    dW1 += reg * W1\n",
    "    \n",
    "    return loss, dW1, db1, dW2, db2\n",
    "\n",
    "def predict(X, W1, b1, W2, b2):\n",
    "    return np.argmax(network_forward_backward_pass(X, None, W1, b1, W2, b2), axis=1)\n",
    "\n",
    "predict(X[1:5], W1, b1, W2, b2)\n",
    "#network_forward_backward_pass(X[1:5], y[1:5], W1, b1, W2, b2)\n",
    "#gradcheck_naive(lambda t : network_forward_backward_pass(X[1:5], y[1:5], W1, b1, W2, t), b2)"
   ]
  },
  {
   "cell_type": "code",
   "execution_count": 7,
   "metadata": {
    "collapsed": false,
    "scrolled": false
   },
   "outputs": [
    {
     "name": "stdout",
     "output_type": "stream",
     "text": [
      "Train Cost: 2.315556\t Val cost 2.315919\n",
      "Train Cost: 0.488772\t Val cost 0.487256\n",
      "Train Cost: 0.390508\t Val cost 0.385654\n",
      "Train Cost: 0.353073\t Val cost 0.344732\n",
      "Train Cost: 0.320935\t Val cost 0.311123\n",
      "Train Cost: 0.307649\t Val cost 0.297533\n",
      "Train Cost: 0.312502\t Val cost 0.299256\n",
      "Train Cost: 0.291057\t Val cost 0.273614\n",
      "Train Cost: 0.272406\t Val cost 0.253935\n",
      "Train Cost: 0.272910\t Val cost 0.249243\n"
     ]
    },
    {
     "data": {
      "image/png": "[encoded data removed]",
      "text/plain": [
       "<matplotlib.figure.Figure at 0x111d239e8>"
      ]
     },
     "metadata": {},
     "output_type": "display_data"
    },
    {
     "name": "stdout",
     "output_type": "stream",
     "text": [
      "Training Accuracy 0.934116\t Testing Accuracy 0.926270\n"
     ]
    }
   ],
   "source": [
    "X = X_train\n",
    "y = Y_train\n",
    "X_val = X_test\n",
    "y_val = Y_test\n",
    "\n",
    "N = X.shape[0]\n",
    "D = X.shape[1]\n",
    "H = 15\n",
    "C = 10\n",
    "std = 1e-2\n",
    "W1 = std*np.random.randn(D, H)\n",
    "b1 = np.zeros(H)\n",
    "\n",
    "W2 = std*np.random.randn(H, C)\n",
    "b2 = np.zeros(C)\n",
    "\n",
    "def gradient_descent_nn(X, y, X_val, y_val, W1, b1, W2, b2, batch_size = 200, \n",
    "                       lr = 1e-3, reg = 0.5e-2, num_iters = 100, print_iters = 10):\n",
    "    it = 0\n",
    "    N = X.shape[0]\n",
    "    stats_train = []\n",
    "    stats_val = []\n",
    "    best_val, best_params = -1, None\n",
    "    while it < num_iters:\n",
    "        indices = np.random.choice(N, batch_size)\n",
    "        X_batch = X[indices]\n",
    "        y_batch = y[indices]\n",
    "        loss, dW1, db1, dW2, db2 = network_forward_backward_pass(X_batch, y_batch, W1, b1, W2, b2, reg)\n",
    "        W1 -= lr*dW1\n",
    "        b1 -= lr*db1\n",
    "        W2 -= lr*dW2\n",
    "        b2 -= lr*db2\n",
    "        \n",
    "        if it%print_iters == 0:\n",
    "            #train_acc = np.mean(y == predict(X, W1, b1, W2, b2))\n",
    "            #val_acc = np.mean(y_val == predict(X_val, W1, b1, W2, b2))\n",
    "            loss_val = network_forward_backward_pass(X, y, W1, b1, W2, b2, reg)[0]\n",
    "            loss_train = network_forward_backward_pass(X_val, y_val, W1, b1, W2, b2, reg)[0]\n",
    "            \n",
    "            test_accuracy = np.mean(y_val == predict(X_val, W1, b1, W2, b2))\n",
    "            if test_accuracy > best_val:\n",
    "                best_val = test_accuracy\n",
    "                best_params = (W1, b1, W2, b2)\n",
    "            \n",
    "            stats_train.append(loss_train)\n",
    "            stats_val.append(loss_val)\n",
    "            print(\"Train Cost: %f\\t Val cost %f\"%(loss_train, loss_val))\n",
    "            \n",
    "        it += 1\n",
    "    \n",
    "    return W1, b1, W2, b2, stats_train, stats_val, best_val, best_params\n",
    "\n",
    "W1, b1, W2, b2, training_error, testing_error, best_val, best_params = gradient_descent_nn(X, y, X_val, y_val, \n",
    "                                                                    W1, b1, W2, b2, \n",
    "                                                                    num_iters = 1000, print_iters = 100)\n",
    "\n",
    "x = range(len(training_error))\n",
    "plt.plot(x, training_error, x, testing_error)\n",
    "plt.show()\n",
    "\n",
    "test_accuracy = np.mean(y_val == predict(X_val, W1, b1, W2, b2))\n",
    "train_accuracy = np.mean(y == predict(X, W1, b1, W2, b2))\n",
    "print(\"Training Accuracy %f\\t Testing Accuracy %f\"%(train_accuracy, test_accuracy))"
   ]
  },
  {
   "cell_type": "code",
   "execution_count": null,
   "metadata": {
    "collapsed": false,
    "scrolled": false
   },
   "outputs": [
    {
     "name": "stdout",
     "output_type": "stream",
     "text": [
      "Testing for hidden size : 800, reg : 0.000010, lr : 0.001000, batch_size : 200\n",
      "Train Cost: 2.311556\t Val cost 2.312876\n",
      "Train Cost: 0.444912\t Val cost 0.009691\n",
      "Train Cost: 0.612937\t Val cost 0.001856\n",
      "Train Cost: 0.692384\t Val cost 0.000972\n",
      "Train Cost: 0.743995\t Val cost 0.000652\n",
      "Train Cost: 0.783001\t Val cost 0.000493\n",
      "Train Cost: 0.811884\t Val cost 0.000397\n",
      "Train Cost: 0.837040\t Val cost 0.000335\n",
      "Train Cost: 0.859262\t Val cost 0.000293\n",
      "Train Cost: 0.877138\t Val cost 0.000262\n",
      "Train Cost: 0.893554\t Val cost 0.000238\n",
      "Train Cost: 0.907907\t Val cost 0.000220\n",
      "Train Cost: 0.920791\t Val cost 0.000205\n",
      "Train Cost: 0.932948\t Val cost 0.000193\n",
      "Train Cost: 0.943899\t Val cost 0.000183\n"
     ]
    }
   ],
   "source": [
    "def train_with_hyperparameters(H, reg, lr, batch_size):\n",
    "    \n",
    "    print(\"Testing for hidden size : %d, reg : %f, lr : %f, batch_size : %d\"%(H, reg, lr, batch_size))\n",
    "    \n",
    "    N = X.shape[0]\n",
    "    D = X.shape[1]\n",
    "    H = 15\n",
    "    C = 10\n",
    "    std = 1e-2\n",
    "    W1 = std*np.random.randn(D, H)\n",
    "    b1 = np.zeros(H)\n",
    "\n",
    "    W2 = std*np.random.randn(H, C)\n",
    "    b2 = np.zeros(C)\n",
    "\n",
    "    W1, b1, W2, b2, train_err, testing_err = gradient_descent_nn(X, y, X_val, y_val, W1, b1, W2, b2, \n",
    "                                                                 batch_size = batch_size, lr = lr, reg = reg, \n",
    "                                                                 num_iters = 1000000, print_iters = 50000)\n",
    "    \n",
    "    x = range(len(training_error))\n",
    "    plt.plot(x, training_error, x, testing_error)\n",
    "    plt.show()\n",
    "\n",
    "    test_accuracy = np.mean(y_val == predict(X_val, W1, b1, W2, b2))\n",
    "    train_accuracy = np.mean(y == predict(X, W1, b1, W2, b2))\n",
    "    print(\"Training Accuracy %f\\t Testing Accuracy %f\"%(train_accuracy, test_accuracy))\n",
    "    \n",
    "    params = [W1, b1, W2, b2, H, reg, lr, batch_size]\n",
    "    return params, train_accuracy, test_accuracy\n",
    "\n",
    "Hs = {800} #, 10, 15, 20, 25}\n",
    "regs = {1e-5, 1e-4} #, 1e-3, 5e-3, 1e-2, 5e-2, 1e-1}\n",
    "lrs = {1e-3}\n",
    "batches = {200}\n",
    "\n",
    "best_val = -1\n",
    "best_params = None\n",
    "\n",
    "for H in Hs:\n",
    "    for reg in regs:\n",
    "        for lr in lrs:\n",
    "            for batch_size in batches:\n",
    "                params, train_accuracy, test_accuracy = train_with_hyperparameters(H, reg, lr, batch_size)\n",
    "                if test_accuracy > best_val:\n",
    "                    best_val = test_accuracy\n",
    "                    best_params = params\n"
   ]
  },
  {
   "cell_type": "code",
   "execution_count": null,
   "metadata": {
    "collapsed": false
   },
   "outputs": [],
   "source": [
    "\n",
    "X_Kaggle=pd.read_csv('test.csv', sep=',').as_matrix()\n",
    "Y_Kaggle = predict(X_Kaggle, W1, b1, W2, b2)\n",
    "dataframe = pd.DataFrame({\"ImageId\":np.arange(28000)+1,\"Label\":Y_Kaggle})\n",
    "dataframe.to_csv('submit_nn.csv', index=False)\n"
   ]
  },
  {
   "cell_type": "code",
   "execution_count": 8,
   "metadata": {
    "collapsed": false,
    "scrolled": true
   },
   "outputs": [
    {
     "data": {
      "text/plain": [
       "0.92277777777777781"
      ]
     },
     "execution_count": 8,
     "metadata": {},
     "output_type": "execute_result"
    }
   ],
   "source": [
    "best_val"
   ]
  },
  {
   "cell_type": "code",
   "execution_count": null,
   "metadata": {
    "collapsed": true
   },
   "outputs": [],
   "source": []
  }
 ],
 "metadata": {
  "kernelspec": {
   "display_name": "Python 3",
   "language": "python",
   "name": "python3"
  },
  "language_info": {
   "codemirror_mode": {
    "name": "ipython",
    "version": 3
   },
   "file_extension": ".py",
   "mimetype": "text/x-python",
   "name": "python",
   "nbconvert_exporter": "python",
   "pygments_lexer": "ipython3",
   "version": "3.5.2"
  },
  "widgets": {
   "state": {},
   "version": "1.1.2"
  }
 },
 "nbformat": 4,
 "nbformat_minor": 2
}
