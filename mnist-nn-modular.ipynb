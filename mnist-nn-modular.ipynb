{
 "cells": [
  {
   "cell_type": "code",
   "execution_count": 1,
   "metadata": {
    "collapsed": false
   },
   "outputs": [],
   "source": [
    "#Load the data from train file\n",
    "import pandas as pd\n",
    "import numpy as np\n",
    "import matplotlib.pyplot as plt\n",
    "import matplotlib.image as mpimg\n",
    "\n",
    "def load_mnist_data():\n",
    "    \n",
    "    data=pd.read_csv('train.csv', sep=',').as_matrix()\n",
    "    data.shape\n",
    "    N = data.shape[0]\n",
    "    n_train = int((N*70)/100)\n",
    "    X_train = data[:n_train,1:]\n",
    "    Y_train = data[:n_train,0]\n",
    "\n",
    "    X_test = data[n_train:,1:]\n",
    "    Y_test = data[n_train:,0]\n",
    "\n",
    "    C = 10\n",
    "    d = X_train.shape[1]\n",
    "    return data, N, n_train, X_train, Y_train, X_test, Y_test, C, d"
   ]
  },
  {
   "cell_type": "code",
   "execution_count": 2,
   "metadata": {
    "collapsed": false
   },
   "outputs": [],
   "source": [
    "data, N, n_train, X_train, Y_train, X_test, Y_test, C, d = load_mnist_data()\n",
    "data = {}\n",
    "data['X_train'] = X_train\n",
    "data['y_train'] = Y_train\n",
    "data['X_val'] = X_test\n",
    "data['y_val'] = Y_test\n"
   ]
  },
  {
   "cell_type": "code",
   "execution_count": 16,
   "metadata": {
    "collapsed": false
   },
   "outputs": [
    {
     "name": "stdout",
     "output_type": "stream",
     "text": [
      "(Iteration 1 / 1470) loss: 2.303132\n",
      "(Epoch 0 / 5) train acc: 0.127000; val_acc: 0.138571\n",
      "(Epoch 1 / 5) train acc: 0.587000; val_acc: 0.576587\n",
      "(Iteration 501 / 1470) loss: 1.618089\n",
      "(Epoch 2 / 5) train acc: 0.712000; val_acc: 0.739683\n",
      "(Epoch 3 / 5) train acc: 0.750000; val_acc: 0.755000\n",
      "(Iteration 1001 / 1470) loss: 1.308241\n",
      "(Epoch 4 / 5) train acc: 0.782000; val_acc: 0.762698\n",
      "(Epoch 5 / 5) train acc: 0.766000; val_acc: 0.771270\n"
     ]
    }
   ],
   "source": [
    "from fc_net import * \n",
    "from solver import *\n",
    "from optim import *\n",
    "\n",
    "input_dim = X_train.shape[1]\n",
    "hidden_dims = [10, 5]\n",
    "\n",
    "net = FullyConnectedNet(hidden_dims, input_dim=input_dim, num_classes=10,\n",
    "               dropout=0, use_batchnorm=True, reg=0,\n",
    "               weight_scale=1e-2, dtype=np.float32, seed=None)\n",
    "\n",
    "update_rule = 'adam'\n",
    "learning_rate = 5e-4\n",
    "solver = Solver(net, data,\n",
    "              num_epochs=5, batch_size=100,\n",
    "              update_rule=update_rule,\n",
    "              optim_config={\n",
    "                'learning_rate': learning_rate\n",
    "              },\n",
    "              print_every=500,\n",
    "              verbose=True)\n",
    "\n",
    "solver.train()\n"
   ]
  },
  {
   "cell_type": "code",
   "execution_count": 36,
   "metadata": {
    "collapsed": false
   },
   "outputs": [
    {
     "name": "stdout",
     "output_type": "stream",
     "text": [
      "Validation set accuracy:  0.976428571429\n"
     ]
    }
   ],
   "source": [
    "y_val_pred = np.argmax(net.loss(data['X_val']), axis=1)\n",
    "print ('Validation set accuracy: ', (y_val_pred == data['y_val']).mean())\n"
   ]
  },
  {
   "cell_type": "code",
   "execution_count": 37,
   "metadata": {
    "collapsed": false
   },
   "outputs": [],
   "source": [
    "\n",
    "X_Kaggle=pd.read_csv('test.csv', sep=',').as_matrix()\n",
    "Y_Kaggle = np.argmax(net.loss(X_Kaggle), axis=1)\n",
    "dataframe = pd.DataFrame({\"ImageId\":np.arange(28000)+1,\"Label\":Y_Kaggle})\n",
    "dataframe.to_csv('submit_nn_mod.csv', index=False)\n"
   ]
  },
  {
   "cell_type": "code",
   "execution_count": 25,
   "metadata": {
    "collapsed": false
   },
   "outputs": [
    {
     "data": {
      "image/png": "[encoded data removed]",
      "text/plain": [
       "<matplotlib.figure.Figure at 0x1121b1940>"
      ]
     },
     "metadata": {},
     "output_type": "display_data"
    }
   ],
   "source": [
    "plt.imshow((net.params['W1'][:,7]).reshape(28,28))\n",
    "plt.show()\n"
   ]
  },
  {
   "cell_type": "code",
   "execution_count": null,
   "metadata": {
    "collapsed": true
   },
   "outputs": [],
   "source": []
  }
 ],
 "metadata": {
  "kernelspec": {
   "display_name": "Python 3",
   "language": "python",
   "name": "python3"
  },
  "language_info": {
   "codemirror_mode": {
    "name": "ipython",
    "version": 3
   },
   "file_extension": ".py",
   "mimetype": "text/x-python",
   "name": "python",
   "nbconvert_exporter": "python",
   "pygments_lexer": "ipython3",
   "version": "3.5.2"
  },
  "widgets": {
   "state": {},
   "version": "1.1.2"
  }
 },
 "nbformat": 4,
 "nbformat_minor": 2
}
