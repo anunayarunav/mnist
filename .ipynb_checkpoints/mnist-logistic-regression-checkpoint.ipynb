{
 "cells": [
  {
   "cell_type": "code",
   "execution_count": 116,
   "metadata": {
    "collapsed": false
   },
   "outputs": [],
   "source": [
    "#Load the data from train file\n",
    "import pandas as pd\n",
    "import numpy as np\n",
    "\n",
    "def load_mnist_data():\n",
    "    \n",
    "    data=pd.read_csv('train.csv', sep=',').as_matrix()\n",
    "    data.shape\n",
    "    N = data.shape[0]\n",
    "    n_train = int((N*70)/100)\n",
    "    X_train = np.column_stack((data[:n_train,1:], np.ones((n_train,1))))\n",
    "    Y_train = data[:n_train,0]\n",
    "\n",
    "    X_test = np.column_stack((data[n_train:,1:], np.ones((N-n_train,1))))\n",
    "    Y_test = data[n_train:,0]\n",
    "\n",
    "    C = 10\n",
    "    d = X_train.shape[1]\n",
    "    return data, N, n_train, X_train, Y_train, X_test, Y_test, C, d"
   ]
  },
  {
   "cell_type": "code",
   "execution_count": 117,
   "metadata": {
    "collapsed": false
   },
   "outputs": [],
   "source": [
    "#split the data into training and testing data\n",
    "data, N, n_train, X_train, Y_train, X_test, Y_test, C, d = load_mnist_data()"
   ]
  },
  {
   "cell_type": "code",
   "execution_count": 100,
   "metadata": {
    "collapsed": true
   },
   "outputs": [],
   "source": [
    "%matplotlib inline"
   ]
  },
  {
   "cell_type": "code",
   "execution_count": 101,
   "metadata": {
    "collapsed": false
   },
   "outputs": [
    {
     "data": {
      "text/plain": [
       "6"
      ]
     },
     "execution_count": 101,
     "metadata": {},
     "output_type": "execute_result"
    },
    {
     "data": {
      "image/png": "[encoded data removed]",
      "text/plain": [
       "<matplotlib.figure.Figure at 0x1128280b8>"
      ]
     },
     "metadata": {},
     "output_type": "display_data"
    }
   ],
   "source": [
    "#plot the image just so that you can see how they are\n",
    "\n",
    "import matplotlib.pyplot as plt\n",
    "import matplotlib.image as mpimg\n",
    "import numpy as np\n",
    "\n",
    "n = 500\n",
    "imgplot = plt.imshow(X_train[n,:-1].reshape(28,28))\n",
    "Y_train[n]"
   ]
  },
  {
   "cell_type": "code",
   "execution_count": 102,
   "metadata": {
    "collapsed": true
   },
   "outputs": [],
   "source": [
    "#theta = np.random.rand(C,d)/1000\n",
    "theta = np.zeros((C,d))"
   ]
  },
  {
   "cell_type": "code",
   "execution_count": 103,
   "metadata": {
    "collapsed": false
   },
   "outputs": [],
   "source": [
    "import random\n",
    "# First implement a gradient checker by filling in the following functions\n",
    "def gradcheck_naive(f, x):\n",
    "    \"\"\" \n",
    "    Gradient check for a function f \n",
    "    - f should be a function that takes a single argument and outputs the cost and its gradients\n",
    "    - x is the point (numpy array) to check the gradient at\n",
    "    \"\"\" \n",
    "\n",
    "    rndstate = random.getstate()\n",
    "    random.setstate(rndstate)  \n",
    "    fx, grad = f(x) # Evaluate function value at original point\n",
    "    h = 1e-10\n",
    "\n",
    "    # Iterate over all indexes in x\n",
    "    it = np.nditer(x, flags=['multi_index'], op_flags=['readwrite'])\n",
    "    while not it.finished:\n",
    "        ix = it.multi_index\n",
    "        \n",
    "        ### YOUR CODE HERE: try modifying x[ix] with h defined above to compute numerical gradients\n",
    "        ### make sure you call random.setstate(rndstate) before calling f(x) each time, this will make it \n",
    "        ### possible to test cost functions with built in randomness later\n",
    "        \n",
    "        x[ix] = x[ix]+h\n",
    "        \n",
    "        random.setstate(rndstate)\n",
    "        fx1,grad1 = f(x)\n",
    "        numgrad = (fx1-fx)/h\n",
    "        \n",
    "        x[ix] = x[ix]-h\n",
    "        \n",
    "        ### END YOUR CODE\n",
    "\n",
    "        # Compare gradients\n",
    "        reldiff = abs(numgrad - grad[ix]) / max(1, abs(numgrad), abs(grad[ix]))\n",
    "        if reldiff > 1e-5:\n",
    "            print( \"Gradient check failed.\")\n",
    "            print( \"First gradient error found at index %s\" % str(ix))\n",
    "            print( \"Your gradient: %f \\t Numerical gradient: %f\" % (grad[ix], numgrad))\n",
    "            return\n",
    "        \n",
    "        it.iternext() # Step to next dimension\n",
    "\n",
    "    print( \"Gradient check passed!\")"
   ]
  },
  {
   "cell_type": "code",
   "execution_count": 195,
   "metadata": {
    "collapsed": false
   },
   "outputs": [
    {
     "name": "stdout",
     "output_type": "stream",
     "text": [
      "(29400,)\n",
      "Gradient check failed.\n",
      "First gradient error found at index (1, 655)\n",
      "Your gradient: -0.811552 \t Numerical gradient: -0.811542\n"
     ]
    }
   ],
   "source": [
    "def compute_probability_matrix(theta, X):\n",
    "    prod = X.dot(theta.T)\n",
    "    exp = np.exp(prod-np.max(prod, axis=1).reshape(-1,1))\n",
    "    norm_const = np.sum(exp,axis=1).reshape(-1,1)\n",
    "    prob_matrix = exp/(norm_const)\n",
    "    return prob_matrix\n",
    "\n",
    "def compute_probability_array(theta, X, Y):\n",
    "    prob_matrix = compute_probability_matrix(theta, X)\n",
    "    k = prob_matrix.shape[0]\n",
    "    return prob_matrix[np.arange(k),Y]\n",
    "\n",
    "#computes sum log p(y=y(i)|x(i)) for all i belonging to the training set\n",
    "def compute_log_entropy(theta, X, Y):\n",
    "    prob_array = compute_probability_array(theta, X, Y)\n",
    "    N = X.shape[0]\n",
    "    return np.sum(np.log(prob_array))/N\n",
    "\n",
    "def compute_gradient(theta, X, Y):\n",
    "    prob_matrix = compute_probability_matrix(theta, X)\n",
    "    k = prob_matrix.shape[0]\n",
    "    prob_matrix[np.arange(k),Y] -= 1\n",
    "    N = X.shape[0]\n",
    "    return -prob_matrix.T.dot(X)/N\n",
    "\n",
    "def cost_grad(theta, X, Y):\n",
    "    cost = compute_log_entropy(theta, X, Y)\n",
    "    grad = compute_gradient(theta, X, Y)\n",
    "    return cost, grad\n",
    "\n",
    "def predict(theta, X):\n",
    "    prob_matrix = compute_probability_matrix(theta, X)\n",
    "    return np.argmax(prob_matrix, axis=1)\n",
    "\n",
    "\"\"\"\n",
    "theta_toy = np.random.rand(2,2)\n",
    "X_toy = np.array([[1,2],[2,1],[3,2]])\n",
    "Y_toy = np.array([0,1,0])\n",
    "print(theta_toy.shape, X_toy.shape, Y_toy.shape)\n",
    "print (cost_grad(theta_toy, X_toy, Y_toy))\n",
    "gradcheck_naive(lambda t : cost_grad(t, X_toy, Y_toy), theta_toy, 1e-6)\n",
    "\"\"\"\n",
    "print(Y_train.shape)\n",
    "gradcheck_naive(lambda t : cost_grad(t, X_train[1:100], Y_train[1:100]), theta)"
   ]
  },
  {
   "cell_type": "code",
   "execution_count": 194,
   "metadata": {
    "collapsed": false
   },
   "outputs": [
    {
     "data": {
      "image/png": "[encoded data removed]",
      "text/plain": [
       "<matplotlib.figure.Figure at 0x1131e8d68>"
      ]
     },
     "metadata": {},
     "output_type": "display_data"
    },
    {
     "name": "stdout",
     "output_type": "stream",
     "text": [
      "54.3888888889 55.0204081633\n"
     ]
    }
   ],
   "source": [
    "def gradient_descent(f, predict, theta, Xr, Yr, Xe, Ye, batch_size=5, max_iterations=100, print_iteration=10, learning_rate=0.0001):\n",
    "    N_train = Xr.shape[0]\n",
    "    batch_count = int(N_train/batch_size)\n",
    "    it = 0\n",
    "    training_error = []\n",
    "    testing_error = []\n",
    "    while it < max_iterations:\n",
    "        #pick a batch\n",
    "        batch = random.randint(0, batch_count)\n",
    "        if(batch < batch_count-1):\n",
    "            X, Y = Xr[batch:batch+batch_size], Yr[batch:batch+batch_size]\n",
    "        else:\n",
    "            X, Y = Xr[batch:], Yr[batch:]\n",
    "        \n",
    "        cost, grad = f(theta, X, Y)\n",
    "        theta += learning_rate*grad\n",
    "        \n",
    "        if it%print_iteration == 0:\n",
    "            training_cost = f(theta, Xr, Yr)[0]\n",
    "            testing_cost = f(theta, Xe, Ye)[0]\n",
    "            training_error.append(training_cost)\n",
    "            testing_error.append(testing_cost)\n",
    "            #print(\"Iteration %d\\t Training cost %f\\t Testing cost %f\\t\"%(it, training_cost, testing_cost))\n",
    "        \n",
    "        it += 1\n",
    "    \n",
    "    Y_testp = predict(theta, Xe)\n",
    "    Y_trainp = predict(theta, Xr)\n",
    "\n",
    "    test_accuracy = np.mean(Y_testp==Ye)*100\n",
    "    train_accuracy = np.mean(Y_trainp==Yr)*100\n",
    "    return training_error, testing_error, theta, train_accuracy, test_accuracy\n",
    "\n",
    "theta = np.zeros((C,d))\n",
    "training_error, testing_error, theta, train_accuracy, test_accuracy = gradient_descent(cost_grad, predict, theta, X_train, Y_train, X_test, Y_test,\n",
    "                                                        print_iteration=10, max_iterations=100,learning_rate=1e-7)\n",
    "\n",
    "x = range(len(training_error))\n",
    "plt.plot(x, training_error, x, testing_error)\n",
    "plt.show()\n",
    "\n",
    "print(test_accuracy, train_accuracy)"
   ]
  },
  {
   "cell_type": "code",
   "execution_count": 155,
   "metadata": {
    "collapsed": false,
    "scrolled": true
   },
   "outputs": [
    {
     "name": "stdout",
     "output_type": "stream",
     "text": [
      "90.3492063492 91.2176870748\n"
     ]
    }
   ],
   "source": [
    "Y_testp = predict(theta, X_test)\n",
    "Y_trainp = predict(theta, X_train)\n",
    "\n",
    "test_accuracy = np.mean(Y_testp==Y_test)*100\n",
    "train_accuracy = np.mean(Y_trainp==Y_train)*100\n",
    "print(test_accuracy, train_accuracy)"
   ]
  },
  {
   "cell_type": "code",
   "execution_count": 145,
   "metadata": {
    "collapsed": false
   },
   "outputs": [],
   "source": [
    "X_Kaggle=pd.read_csv('test.csv', sep=',').as_matrix()\n",
    "X_Kaggle = np.column_stack((X_Kaggle, np.ones((28000,1))))\n",
    "Y_Kaggle = predict(theta, X_Kaggle)\n",
    "dataframe = pd.DataFrame({\"ImageId\":np.arange(28000)+1,\"Label\":Y_Kaggle})\n",
    "dataframe.to_csv('submit.csv', index=False)\n"
   ]
  },
  {
   "cell_type": "code",
   "execution_count": 220,
   "metadata": {
    "collapsed": false
   },
   "outputs": [
    {
     "name": "stdout",
     "output_type": "stream",
     "text": [
      "99.7884114583 99.7380239521\n",
      "99.0034364261 98.5536359984\n",
      "99.1487311275 99.2789373814\n",
      "99.4748433 99.0310077519\n",
      "98.5893168489 98.4959647836\n",
      "94.6532999165 94.4946913095\n",
      "99.6004863644 99.4278708623\n",
      "99.5619016713 99.5372155804\n",
      "97.7050864874 97.9668049793\n",
      "99.0712597096 98.8804478209\n",
      "98.2094411286 97.3728106756\n",
      "99.1238416175 99.2531446541\n",
      "96.3286401711 95.3833121559\n",
      "91.1837021426 90.7422512235\n",
      "98.3777937996 97.6714100906\n",
      "98.3561169753 97.9518072289\n",
      "99.5796281326 99.6206373293\n",
      "97.9013820167 97.2686506319\n",
      "99.0410497981 98.820754717\n",
      "98.6029665402 97.926171713\n",
      "96.4811490126 95.5546147333\n",
      "99.4274166386 99.3063583815\n",
      "98.8335435057 99.0514410799\n",
      "97.5083056478 97.8498827209\n",
      "98.1648369654 97.885994715\n",
      "97.985563203 97.6152623211\n",
      "99.0225170187 98.7434130523\n",
      "99.6822211072 99.6483001172\n",
      "99.280322977 99.0392313851\n",
      "97.378338522 97.3146747352\n",
      "95.4663436581 95.3677366924\n",
      "93.7052200614 93.3385579937\n",
      "98.8278516445 98.1810665564\n",
      "94.3695335277 93.9662447257\n",
      "98.3966538864 98.2940698619\n",
      "98.2363913855 98.2859368913\n",
      "99.2394122731 98.6587771203\n",
      "99.2731384267 99.4032077583\n",
      "98.0910175558 98.0784627702\n",
      "97.9495798319 97.3735032831\n",
      "93.9179875948 93.7703583062\n",
      "96.6463414634 96.5101786456\n",
      "99.6910401648 99.5198079232\n",
      "92.1303258145 92.2811059908\n",
      "96.2743732591 96.2903869166\n",
      "Train Accuracy 90.098639, \tTest Accuracy 89.357143\n"
     ]
    }
   ],
   "source": [
    "#pairwise classification\n",
    "def matching_indices(Y, i, j, n):\n",
    "    x = [p for p in range(n) if Y[p] == i]\n",
    "    y = [p for p in range(n) if Y[p] == j]\n",
    "    return x,y\n",
    "\n",
    "params = []\n",
    "n_test = N-n_train\n",
    "i = 0\n",
    "j = 4\n",
    "for i in range(10):\n",
    "    params.append([])\n",
    "    for j in range(i):\n",
    "        theta = np.zeros((2,d))\n",
    "        x, y = matching_indices(Y_train, i, j, n_train)\n",
    "        x_t, y_t = matching_indices(Y_test, i, j, n_test)\n",
    "        xy = x+y\n",
    "        xy_t = x_t+y_t\n",
    "        Y_train_xy = np.copy(Y_train[xy])\n",
    "        X_train_xy = np.copy(X_train[xy])\n",
    "        Y_test_xy = np.copy(Y_test[xy_t])\n",
    "        X_test_xy = np.copy(X_test[xy_t])\n",
    "\n",
    "        x, y = matching_indices(Y_train_xy, i, j, Y_train_xy.shape[0])\n",
    "        x_t, y_t = matching_indices(Y_test_xy, i, j, Y_test_xy.shape[0])\n",
    "        Y_train_xy[x] = 0\n",
    "        Y_train_xy[y] = 1\n",
    "        Y_test_xy[x_t] = 0\n",
    "        Y_test_xy[y_t] = 1\n",
    "        training_error, testing_error, theta, train_accuracy, test_accuracy = gradient_descent(cost_grad, predict, theta, X_train_xy, Y_train_xy,\n",
    "                                                                X_test_xy, Y_test_xy, \n",
    "                                                                print_iteration=1000000, max_iterations=100000,learning_rate=1e-5)\n",
    "\n",
    "        x = range(len(training_error))\n",
    "        #plt.plot(x, training_error, x, testing_error)\n",
    "        #plt.show()\n",
    "        params[i].append(theta)\n",
    "        print(train_accuracy, test_accuracy)\n"
   ]
  },
  {
   "cell_type": "code",
   "execution_count": 247,
   "metadata": {
    "collapsed": false
   },
   "outputs": [
    {
     "name": "stdout",
     "output_type": "stream",
     "text": [
      "Train Accuracy 91.142857, \tTest Accuracy 90.460317\n"
     ]
    }
   ],
   "source": [
    "def predict_pairwise(params, X):\n",
    "    N = X.shape[0]\n",
    "    Y = np.zeros((N,d))\n",
    "    for i in range(10):\n",
    "        for j in range(i):\n",
    "            prob_matrix = compute_probability_matrix(params[i][j], X)\n",
    "            k = [k for k in range(N) if prob_matrix[k][0] > 0.8]\n",
    "            l = [l for l in range(N) if prob_matrix[l][1] > 0.8]\n",
    "            Y[k,i] += 1\n",
    "            Y[l,j] += 1\n",
    "            \n",
    "    return np.argmax(Y, axis=1)\n",
    "\n",
    "Y_testp = predict_pairwise(params, X_test)\n",
    "Y_trainp = predict_pairwise(params, X_train)\n",
    "\n",
    "test_accuracy = np.mean(Y_testp==Y_test)*100\n",
    "train_accuracy = np.mean(Y_trainp==Y_train)*100\n",
    "print(\"Train Accuracy %f, \\tTest Accuracy %f\"%(train_accuracy,test_accuracy))\n"
   ]
  },
  {
   "cell_type": "code",
   "execution_count": 240,
   "metadata": {
    "collapsed": true
   },
   "outputs": [],
   "source": [
    "X_Kaggle=pd.read_csv('test.csv', sep=',').as_matrix()\n",
    "X_Kaggle = np.column_stack((X_Kaggle, np.ones((28000,1))))\n",
    "Y_Kaggle = predict_pairwise(params, X_Kaggle)\n",
    "dataframe = pd.DataFrame({\"ImageId\":np.arange(28000)+1,\"Label\":Y_Kaggle})\n",
    "dataframe.to_csv('submit_pairwise.csv', index=False)\n"
   ]
  },
  {
   "cell_type": "code",
   "execution_count": null,
   "metadata": {
    "collapsed": true
   },
   "outputs": [],
   "source": []
  }
 ],
 "metadata": {
  "kernelspec": {
   "display_name": "Python 3",
   "language": "python",
   "name": "python3"
  },
  "language_info": {
   "codemirror_mode": {
    "name": "ipython",
    "version": 3
   },
   "file_extension": ".py",
   "mimetype": "text/x-python",
   "name": "python",
   "nbconvert_exporter": "python",
   "pygments_lexer": "ipython3",
   "version": "3.5.2"
  },
  "widgets": {
   "state": {},
   "version": "1.1.2"
  }
 },
 "nbformat": 4,
 "nbformat_minor": 2
}
