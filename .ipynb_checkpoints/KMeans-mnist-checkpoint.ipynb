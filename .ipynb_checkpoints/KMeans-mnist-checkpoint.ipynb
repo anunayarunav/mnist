{
 "cells": [
  {
   "cell_type": "code",
   "execution_count": 1,
   "metadata": {
    "collapsed": true
   },
   "outputs": [],
   "source": [
    "#Load the data from train file\n",
    "import pandas as pd\n",
    "import numpy as np\n",
    "\n",
    "def load_mnist_data():\n",
    "    \n",
    "    data=pd.read_csv('train.csv', sep=',').as_matrix()\n",
    "    data.shape\n",
    "    N = data.shape[0]\n",
    "    n_train = int((N*70)/100)\n",
    "    X_train = data[:n_train,1:]\n",
    "    Y_train = data[:n_train,0]\n",
    "\n",
    "    X_test = data[n_train:,1:]\n",
    "    Y_test = data[n_train:,0]\n",
    "\n",
    "    C = 10\n",
    "    d = X_train.shape[1]\n",
    "    return data, N, n_train, X_train, Y_train, X_test, Y_test, C, d"
   ]
  },
  {
   "cell_type": "code",
   "execution_count": 2,
   "metadata": {
    "collapsed": true
   },
   "outputs": [],
   "source": [
    "data, N, n_train, X_train, Y_train, X_test, Y_test, C, d = load_mnist_data()"
   ]
  },
  {
   "cell_type": "code",
   "execution_count": 20,
   "metadata": {
    "collapsed": true
   },
   "outputs": [],
   "source": [
    "%matplotlib inline"
   ]
  },
  {
   "cell_type": "code",
   "execution_count": 81,
   "metadata": {
    "collapsed": false
   },
   "outputs": [
    {
     "name": "stdout",
     "output_type": "stream",
     "text": [
      "Train Accuracy 51.068027, \tTest Accuracy 51.698413\n"
     ]
    },
    {
     "data": {
      "text/plain": [
       "[<matplotlib.lines.Line2D at 0x112d486d8>]"
      ]
     },
     "execution_count": 81,
     "metadata": {},
     "output_type": "execute_result"
    },
    {
     "data": {
      "image/png": "[encoded data removed]",
      "text/plain": [
       "<matplotlib.figure.Figure at 0x112d26e48>"
      ]
     },
     "metadata": {},
     "output_type": "display_data"
    }
   ],
   "source": [
    "import matplotlib.pyplot as plt\n",
    "import matplotlib.image as mpimg\n",
    "import numpy as np\n",
    "\n",
    "def assign_labels(X_train, X_means):\n",
    "    A = np.sum(X_train*X_train, axis=1).reshape(-1,1)\n",
    "    B = np.sum(X_means*X_means, axis=1).reshape(1,-1)\n",
    "    C = X_train.dot(X_means.T)\n",
    "    d = A+B-2*C\n",
    "    labels = np.argmin(d, axis=1)\n",
    "    return labels.T\n",
    "\n",
    "def compute_mean(X_train, X_labels, K):\n",
    "    N = X_train.shape[0]\n",
    "    label_matrix = np.zeros((N,K))\n",
    "    label_matrix[np.arange(N),X_labels] = 1\n",
    "    return label_matrix.T.dot(X_train)/np.sum(label_matrix, axis=0).reshape(-1,1)\n",
    "\n",
    "def compute_error(X_train, X_means, X_labels, K):\n",
    "    N = X_train.shape[0]\n",
    "    label_matrix = np.zeros((N,K))\n",
    "    label_matrix[np.arange(N),X_labels] = 1\n",
    "    means = label_matrix.dot(X_means)\n",
    "    error = np.sum(np.sqrt(((X_train-means)*(X_train-means))))/N\n",
    "    return error\n",
    "    \n",
    "def KMeans(X_train, Y_train, K, iterations):\n",
    "    N = X_train.shape[0]\n",
    "    d = X_train.shape[1]\n",
    "    X_means = np.rand((K, d))\n",
    "    \n",
    "    X_labels = assign_labels(X_train, X_means)\n",
    "    it = 0\n",
    "    errors = []\n",
    "    while it < iterations:\n",
    "        X_means = compute_mean(X_train, X_labels, K)\n",
    "        X_labels = assign_labels(X_train, X_means)\n",
    "        error = compute_error(X_train, X_means, X_labels, K)\n",
    "        errors.append(error)\n",
    "        it += 1\n",
    "    \n",
    "    return errors, X_means\n",
    "\n",
    "x = np.array([[2,1],[3,4],[5,3]])\n",
    "l = np.array([[0],[1],[0]]).T\n",
    "mean = compute_mean(x, l, 2)\n",
    "labels = assign_labels(x, mean)\n",
    "mean, labels\n",
    "\n",
    "errors, X_means = KMeans(X_train, Y_train, 10, 50)\n",
    "test_labels = assign_labels(X_test, X_means)\n",
    "train_labels = assign_labels(X_train, X_means)\n",
    "train_accuracy = (np.sum(Y_train == train_labels)/Y_train.shape[0])*100\n",
    "test_accuracy = (np.sum(Y_test == test_labels)/Y_test.shape[0])*100\n",
    "print(\"Train Accuracy %f, \\tTest Accuracy %f\"%(train_accuracy, test_accuracy))\n",
    "plt.plot(range(len(errors)), errors, 'b-')\n"
   ]
  },
  {
   "cell_type": "code",
   "execution_count": null,
   "metadata": {
    "collapsed": true
   },
   "outputs": [],
   "source": []
  }
 ],
 "metadata": {
  "kernelspec": {
   "display_name": "Python 3",
   "language": "python",
   "name": "python3"
  },
  "language_info": {
   "codemirror_mode": {
    "name": "ipython",
    "version": 3
   },
   "file_extension": ".py",
   "mimetype": "text/x-python",
   "name": "python",
   "nbconvert_exporter": "python",
   "pygments_lexer": "ipython3",
   "version": "3.5.2"
  },
  "widgets": {
   "state": {},
   "version": "1.1.2"
  }
 },
 "nbformat": 4,
 "nbformat_minor": 2
}
